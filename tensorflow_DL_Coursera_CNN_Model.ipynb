{
 "cells": [
  {
   "cell_type": "code",
   "execution_count": 2,
   "metadata": {},
   "outputs": [],
   "source": [
    "import keras\n",
    "from keras.models import Sequential\n",
    "from keras.layers import Dense\n",
    "from keras.layers import Input\n",
    "from tensorflow.keras.utils import to_categorical"
   ]
  },
  {
   "cell_type": "code",
   "execution_count": 3,
   "metadata": {},
   "outputs": [],
   "source": [
    "from keras.layers import Conv2D # to add convolutional layers\n",
    "from keras.layers import MaxPooling2D # to add pooling layers\n",
    "from keras.layers import Flatten # to flatten data for fully connected layers"
   ]
  },
  {
   "cell_type": "code",
   "execution_count": 4,
   "metadata": {},
   "outputs": [],
   "source": [
    "# import data\n",
    "from keras.datasets import mnist\n",
    "\n",
    "# load data\n",
    "(X_train, y_train), (X_test, y_test) = mnist.load_data()\n",
    "\n",
    "# reshape to be [samples][pixels][width][height]\n",
    "X_train = X_train.reshape(X_train.shape[0], 28, 28, 1).astype('float32')\n",
    "X_test = X_test.reshape(X_test.shape[0], 28, 28, 1).astype('float32')"
   ]
  },
  {
   "cell_type": "code",
   "execution_count": 5,
   "metadata": {},
   "outputs": [],
   "source": [
    "X_train = X_train / 255 # normalize training data\n",
    "X_test = X_test / 255 # normalize test data"
   ]
  },
  {
   "cell_type": "code",
   "execution_count": 6,
   "metadata": {},
   "outputs": [],
   "source": [
    "y_train = to_categorical(y_train)\n",
    "y_test = to_categorical(y_test)\n",
    "\n",
    "num_classes = y_test.shape[1] # number of categories"
   ]
  },
  {
   "cell_type": "code",
   "execution_count": 7,
   "metadata": {},
   "outputs": [],
   "source": [
    "def convolutional_model():\n",
    "    \n",
    "    # create model\n",
    "    model = Sequential()\n",
    "    model.add(Input(shape=(28, 28, 1)))\n",
    "    model.add(Conv2D(16, (5, 5), strides=(1, 1), activation='relu'))\n",
    "    model.add(MaxPooling2D(pool_size=(2, 2), strides=(2, 2)))\n",
    "    \n",
    "    model.add(Flatten())\n",
    "    model.add(Dense(100, activation='relu'))\n",
    "    model.add(Dense(num_classes, activation='softmax'))\n",
    "    \n",
    "    # compile model\n",
    "    model.compile(optimizer='adam', loss='categorical_crossentropy',  metrics=['accuracy'])\n",
    "    return model"
   ]
  },
  {
   "cell_type": "code",
   "execution_count": 8,
   "metadata": {},
   "outputs": [
    {
     "name": "stdout",
     "output_type": "stream",
     "text": [
      "Epoch 1/10\n",
      "300/300 - 33s - loss: 0.3039 - accuracy: 0.9143 - val_loss: 0.1215 - val_accuracy: 0.9664\n",
      "Epoch 2/10\n",
      "300/300 - 1s - loss: 0.0942 - accuracy: 0.9726 - val_loss: 0.0606 - val_accuracy: 0.9811\n",
      "Epoch 3/10\n",
      "300/300 - 1s - loss: 0.0609 - accuracy: 0.9818 - val_loss: 0.0485 - val_accuracy: 0.9838\n",
      "Epoch 4/10\n",
      "300/300 - 1s - loss: 0.0462 - accuracy: 0.9859 - val_loss: 0.0496 - val_accuracy: 0.9836\n",
      "Epoch 5/10\n",
      "300/300 - 1s - loss: 0.0364 - accuracy: 0.9890 - val_loss: 0.0437 - val_accuracy: 0.9862\n",
      "Epoch 6/10\n",
      "300/300 - 1s - loss: 0.0290 - accuracy: 0.9912 - val_loss: 0.0426 - val_accuracy: 0.9868\n",
      "Epoch 7/10\n",
      "300/300 - 1s - loss: 0.0241 - accuracy: 0.9930 - val_loss: 0.0360 - val_accuracy: 0.9881\n",
      "Epoch 8/10\n",
      "300/300 - 1s - loss: 0.0201 - accuracy: 0.9940 - val_loss: 0.0367 - val_accuracy: 0.9877\n",
      "Epoch 9/10\n",
      "300/300 - 1s - loss: 0.0168 - accuracy: 0.9949 - val_loss: 0.0341 - val_accuracy: 0.9895\n",
      "Epoch 10/10\n",
      "300/300 - 1s - loss: 0.0136 - accuracy: 0.9962 - val_loss: 0.0360 - val_accuracy: 0.9890\n",
      "Accuracy: 0.9890000224113464 \n",
      " Error: 1.0999977588653564\n"
     ]
    }
   ],
   "source": [
    "# build the model\n",
    "model = convolutional_model()\n",
    "\n",
    "# fit the model\n",
    "model.fit(X_train, y_train, validation_data=(X_test, y_test), epochs=10, batch_size=200, verbose=2)\n",
    "\n",
    "# evaluate the model\n",
    "scores = model.evaluate(X_test, y_test, verbose=0)\n",
    "print(\"Accuracy: {} \\n Error: {}\".format(scores[1], 100-scores[1]*100))"
   ]
  },
  {
   "cell_type": "code",
   "execution_count": 9,
   "metadata": {},
   "outputs": [],
   "source": [
    "def convolutional_model():\n",
    "    \n",
    "    # create model\n",
    "    model = Sequential()\n",
    "    model.add(Input(shape=(28, 28, 1)))\n",
    "    model.add(Conv2D(16, (5, 5), activation='relu'))\n",
    "    model.add(MaxPooling2D(pool_size=(2, 2), strides=(2, 2)))\n",
    "    \n",
    "    model.add(Conv2D(8, (2, 2), activation='relu'))\n",
    "    model.add(MaxPooling2D(pool_size=(2, 2), strides=(2, 2)))\n",
    "    \n",
    "    model.add(Flatten())\n",
    "    model.add(Dense(100, activation='relu'))\n",
    "    model.add(Dense(num_classes, activation='softmax'))\n",
    "    \n",
    "    # Compile model\n",
    "    model.compile(optimizer='adam', loss='categorical_crossentropy',  metrics=['accuracy'])\n",
    "    return model"
   ]
  },
  {
   "cell_type": "code",
   "execution_count": 10,
   "metadata": {},
   "outputs": [
    {
     "name": "stdout",
     "output_type": "stream",
     "text": [
      "Epoch 1/10\n",
      "300/300 - 2s - loss: 0.4476 - accuracy: 0.8755 - val_loss: 0.1259 - val_accuracy: 0.9601\n",
      "Epoch 2/10\n",
      "300/300 - 1s - loss: 0.1105 - accuracy: 0.9670 - val_loss: 0.0762 - val_accuracy: 0.9756\n",
      "Epoch 3/10\n",
      "300/300 - 1s - loss: 0.0782 - accuracy: 0.9759 - val_loss: 0.0613 - val_accuracy: 0.9804\n",
      "Epoch 4/10\n",
      "300/300 - 1s - loss: 0.0648 - accuracy: 0.9801 - val_loss: 0.0535 - val_accuracy: 0.9825\n",
      "Epoch 5/10\n",
      "300/300 - 1s - loss: 0.0552 - accuracy: 0.9837 - val_loss: 0.0494 - val_accuracy: 0.9845\n",
      "Epoch 6/10\n",
      "300/300 - 1s - loss: 0.0486 - accuracy: 0.9852 - val_loss: 0.0445 - val_accuracy: 0.9848\n",
      "Epoch 7/10\n",
      "300/300 - 1s - loss: 0.0433 - accuracy: 0.9869 - val_loss: 0.0457 - val_accuracy: 0.9851\n",
      "Epoch 8/10\n",
      "300/300 - 1s - loss: 0.0391 - accuracy: 0.9878 - val_loss: 0.0462 - val_accuracy: 0.9843\n",
      "Epoch 9/10\n",
      "300/300 - 1s - loss: 0.0340 - accuracy: 0.9893 - val_loss: 0.0362 - val_accuracy: 0.9886\n",
      "Epoch 10/10\n",
      "300/300 - 1s - loss: 0.0319 - accuracy: 0.9901 - val_loss: 0.0357 - val_accuracy: 0.9879\n",
      "Accuracy: 0.9879000186920166 \n",
      " Error: 1.2099981307983398\n"
     ]
    }
   ],
   "source": [
    "# build the model\n",
    "model = convolutional_model()\n",
    "\n",
    "# fit the model\n",
    "model.fit(X_train, y_train, validation_data=(X_test, y_test), epochs=10, batch_size=200, verbose=2)\n",
    "\n",
    "# evaluate the model\n",
    "scores = model.evaluate(X_test, y_test, verbose=0)\n",
    "print(\"Accuracy: {} \\n Error: {}\".format(scores[1], 100-scores[1]*100))"
   ]
  },
  {
   "cell_type": "code",
   "execution_count": null,
   "metadata": {},
   "outputs": [],
   "source": []
  }
 ],
 "metadata": {
  "kernelspec": {
   "display_name": "tensorflow_env1",
   "language": "python",
   "name": "python3"
  },
  "language_info": {
   "codemirror_mode": {
    "name": "ipython",
    "version": 3
   },
   "file_extension": ".py",
   "mimetype": "text/x-python",
   "name": "python",
   "nbconvert_exporter": "python",
   "pygments_lexer": "ipython3",
   "version": "3.9.18"
  }
 },
 "nbformat": 4,
 "nbformat_minor": 2
}
